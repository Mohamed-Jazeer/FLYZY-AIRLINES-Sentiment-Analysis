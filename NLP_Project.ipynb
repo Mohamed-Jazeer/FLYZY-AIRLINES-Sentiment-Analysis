{
 "cells": [
  {
   "cell_type": "code",
   "execution_count": 1,
   "id": "ed18539b",
   "metadata": {},
   "outputs": [
    {
     "data": {
      "text/html": [
       "<div>\n",
       "<style scoped>\n",
       "    .dataframe tbody tr th:only-of-type {\n",
       "        vertical-align: middle;\n",
       "    }\n",
       "\n",
       "    .dataframe tbody tr th {\n",
       "        vertical-align: top;\n",
       "    }\n",
       "\n",
       "    .dataframe thead th {\n",
       "        text-align: right;\n",
       "    }\n",
       "</style>\n",
       "<table border=\"1\" class=\"dataframe\">\n",
       "  <thead>\n",
       "    <tr style=\"text-align: right;\">\n",
       "      <th></th>\n",
       "      <th>sentiment_polarity</th>\n",
       "      <th>sentiment_polarity_confidence</th>\n",
       "      <th>negative_reason</th>\n",
       "      <th>negativereason_confidence</th>\n",
       "      <th>airline_name</th>\n",
       "      <th>airline_sentiment_gold</th>\n",
       "      <th>name</th>\n",
       "      <th>negativereason_gold</th>\n",
       "      <th>retweet_count</th>\n",
       "      <th>Review</th>\n",
       "      <th>tweet_coord</th>\n",
       "      <th>tweet_created</th>\n",
       "      <th>tweet_location</th>\n",
       "      <th>user_timezone</th>\n",
       "    </tr>\n",
       "  </thead>\n",
       "  <tbody>\n",
       "    <tr>\n",
       "      <th>0</th>\n",
       "      <td>neutral</td>\n",
       "      <td>1.0000</td>\n",
       "      <td>NaN</td>\n",
       "      <td>NaN</td>\n",
       "      <td>Virgin America</td>\n",
       "      <td>NaN</td>\n",
       "      <td>cairdin</td>\n",
       "      <td>NaN</td>\n",
       "      <td>0</td>\n",
       "      <td>@VirginAmerica What @dhepburn said.</td>\n",
       "      <td>NaN</td>\n",
       "      <td>24/02/15 11:35</td>\n",
       "      <td>NaN</td>\n",
       "      <td>Eastern Time (US &amp; Canada)</td>\n",
       "    </tr>\n",
       "    <tr>\n",
       "      <th>1</th>\n",
       "      <td>positive</td>\n",
       "      <td>0.3486</td>\n",
       "      <td>NaN</td>\n",
       "      <td>0.0</td>\n",
       "      <td>Virgin America</td>\n",
       "      <td>NaN</td>\n",
       "      <td>jnardino</td>\n",
       "      <td>NaN</td>\n",
       "      <td>0</td>\n",
       "      <td>@VirginAmerica plus you've added commercials t...</td>\n",
       "      <td>NaN</td>\n",
       "      <td>24/02/15 11:15</td>\n",
       "      <td>NaN</td>\n",
       "      <td>Pacific Time (US &amp; Canada)</td>\n",
       "    </tr>\n",
       "  </tbody>\n",
       "</table>\n",
       "</div>"
      ],
      "text/plain": [
       "  sentiment_polarity  sentiment_polarity_confidence negative_reason  \\\n",
       "0            neutral                         1.0000             NaN   \n",
       "1           positive                         0.3486             NaN   \n",
       "\n",
       "   negativereason_confidence    airline_name airline_sentiment_gold      name  \\\n",
       "0                        NaN  Virgin America                    NaN   cairdin   \n",
       "1                        0.0  Virgin America                    NaN  jnardino   \n",
       "\n",
       "  negativereason_gold  retweet_count  \\\n",
       "0                 NaN              0   \n",
       "1                 NaN              0   \n",
       "\n",
       "                                              Review tweet_coord  \\\n",
       "0                @VirginAmerica What @dhepburn said.         NaN   \n",
       "1  @VirginAmerica plus you've added commercials t...         NaN   \n",
       "\n",
       "    tweet_created tweet_location               user_timezone  \n",
       "0  24/02/15 11:35            NaN  Eastern Time (US & Canada)  \n",
       "1  24/02/15 11:15            NaN  Pacific Time (US & Canada)  "
      ]
     },
     "execution_count": 1,
     "metadata": {},
     "output_type": "execute_result"
    }
   ],
   "source": [
    "# Import Dependencies\n",
    "import pandas as pd\n",
    "import numpy as np\n",
    "\n",
    "df = pd.read_csv(r\"C:\\Users\\kurra\\Desktop\\DIG\\Internship\\flyzy_review.csv\")\n",
    "df.head(2)"
   ]
  },
  {
   "cell_type": "code",
   "execution_count": 2,
   "id": "c25d10a6",
   "metadata": {
    "scrolled": false
   },
   "outputs": [
    {
     "data": {
      "text/plain": [
       "Index(['sentiment_polarity', 'sentiment_polarity_confidence',\n",
       "       'negative_reason', 'negativereason_confidence', 'airline_name',\n",
       "       'airline_sentiment_gold', 'name', 'negativereason_gold',\n",
       "       'retweet_count', 'Review', 'tweet_coord', 'tweet_created',\n",
       "       'tweet_location', 'user_timezone'],\n",
       "      dtype='object')"
      ]
     },
     "execution_count": 2,
     "metadata": {},
     "output_type": "execute_result"
    }
   ],
   "source": [
    "# no of features in dataset\n",
    "df.columns"
   ]
  },
  {
   "cell_type": "code",
   "execution_count": 3,
   "id": "b8193901",
   "metadata": {},
   "outputs": [
    {
     "data": {
      "text/plain": [
       "(14640, 14)"
      ]
     },
     "execution_count": 3,
     "metadata": {},
     "output_type": "execute_result"
    }
   ],
   "source": [
    "df.shape"
   ]
  },
  {
   "cell_type": "code",
   "execution_count": 4,
   "id": "51d015e1",
   "metadata": {},
   "outputs": [
    {
     "data": {
      "text/plain": [
       "sentiment_polarity                   0\n",
       "sentiment_polarity_confidence        0\n",
       "negative_reason                   5462\n",
       "negativereason_confidence         4118\n",
       "airline_name                         0\n",
       "airline_sentiment_gold           14600\n",
       "name                                 0\n",
       "negativereason_gold              14608\n",
       "retweet_count                        0\n",
       "Review                               0\n",
       "tweet_coord                      13621\n",
       "tweet_created                        0\n",
       "tweet_location                    4733\n",
       "user_timezone                     4820\n",
       "dtype: int64"
      ]
     },
     "execution_count": 4,
     "metadata": {},
     "output_type": "execute_result"
    }
   ],
   "source": [
    "# null values\n",
    "df.isna().sum()"
   ]
  },
  {
   "cell_type": "code",
   "execution_count": 2,
   "id": "54e871ce",
   "metadata": {
    "scrolled": true
   },
   "outputs": [
    {
     "data": {
      "text/html": [
       "<div>\n",
       "<style scoped>\n",
       "    .dataframe tbody tr th:only-of-type {\n",
       "        vertical-align: middle;\n",
       "    }\n",
       "\n",
       "    .dataframe tbody tr th {\n",
       "        vertical-align: top;\n",
       "    }\n",
       "\n",
       "    .dataframe thead th {\n",
       "        text-align: right;\n",
       "    }\n",
       "</style>\n",
       "<table border=\"1\" class=\"dataframe\">\n",
       "  <thead>\n",
       "    <tr style=\"text-align: right;\">\n",
       "      <th></th>\n",
       "      <th>sentiment_polarity</th>\n",
       "      <th>negative_reason</th>\n",
       "      <th>airline_name</th>\n",
       "      <th>Review</th>\n",
       "    </tr>\n",
       "  </thead>\n",
       "  <tbody>\n",
       "    <tr>\n",
       "      <th>0</th>\n",
       "      <td>neutral</td>\n",
       "      <td>NaN</td>\n",
       "      <td>Virgin America</td>\n",
       "      <td>@VirginAmerica What @dhepburn said.</td>\n",
       "    </tr>\n",
       "    <tr>\n",
       "      <th>1</th>\n",
       "      <td>positive</td>\n",
       "      <td>NaN</td>\n",
       "      <td>Virgin America</td>\n",
       "      <td>@VirginAmerica plus you've added commercials t...</td>\n",
       "    </tr>\n",
       "    <tr>\n",
       "      <th>2</th>\n",
       "      <td>neutral</td>\n",
       "      <td>NaN</td>\n",
       "      <td>Virgin America</td>\n",
       "      <td>@VirginAmerica I didn't today... Must mean I n...</td>\n",
       "    </tr>\n",
       "    <tr>\n",
       "      <th>3</th>\n",
       "      <td>negative</td>\n",
       "      <td>Bad Flight</td>\n",
       "      <td>Virgin America</td>\n",
       "      <td>@VirginAmerica it's really aggressive to blast...</td>\n",
       "    </tr>\n",
       "    <tr>\n",
       "      <th>4</th>\n",
       "      <td>negative</td>\n",
       "      <td>Can't Tell</td>\n",
       "      <td>Virgin America</td>\n",
       "      <td>@VirginAmerica and it's a really big bad thing...</td>\n",
       "    </tr>\n",
       "    <tr>\n",
       "      <th>...</th>\n",
       "      <td>...</td>\n",
       "      <td>...</td>\n",
       "      <td>...</td>\n",
       "      <td>...</td>\n",
       "    </tr>\n",
       "    <tr>\n",
       "      <th>14635</th>\n",
       "      <td>positive</td>\n",
       "      <td>NaN</td>\n",
       "      <td>American</td>\n",
       "      <td>@AmericanAir thank you we got on a different f...</td>\n",
       "    </tr>\n",
       "    <tr>\n",
       "      <th>14636</th>\n",
       "      <td>negative</td>\n",
       "      <td>Customer Service Issue</td>\n",
       "      <td>American</td>\n",
       "      <td>@AmericanAir leaving over 20 minutes Late Flig...</td>\n",
       "    </tr>\n",
       "    <tr>\n",
       "      <th>14637</th>\n",
       "      <td>neutral</td>\n",
       "      <td>NaN</td>\n",
       "      <td>American</td>\n",
       "      <td>@AmericanAir Please bring American Airlines to...</td>\n",
       "    </tr>\n",
       "    <tr>\n",
       "      <th>14638</th>\n",
       "      <td>negative</td>\n",
       "      <td>Customer Service Issue</td>\n",
       "      <td>American</td>\n",
       "      <td>@AmericanAir you have my money, you change my ...</td>\n",
       "    </tr>\n",
       "    <tr>\n",
       "      <th>14639</th>\n",
       "      <td>neutral</td>\n",
       "      <td>NaN</td>\n",
       "      <td>American</td>\n",
       "      <td>@AmericanAir we have 8 ppl so we need 2 know h...</td>\n",
       "    </tr>\n",
       "  </tbody>\n",
       "</table>\n",
       "<p>14640 rows × 4 columns</p>\n",
       "</div>"
      ],
      "text/plain": [
       "      sentiment_polarity         negative_reason    airline_name  \\\n",
       "0                neutral                     NaN  Virgin America   \n",
       "1               positive                     NaN  Virgin America   \n",
       "2                neutral                     NaN  Virgin America   \n",
       "3               negative              Bad Flight  Virgin America   \n",
       "4               negative              Can't Tell  Virgin America   \n",
       "...                  ...                     ...             ...   \n",
       "14635           positive                     NaN        American   \n",
       "14636           negative  Customer Service Issue        American   \n",
       "14637            neutral                     NaN        American   \n",
       "14638           negative  Customer Service Issue        American   \n",
       "14639            neutral                     NaN        American   \n",
       "\n",
       "                                                  Review  \n",
       "0                    @VirginAmerica What @dhepburn said.  \n",
       "1      @VirginAmerica plus you've added commercials t...  \n",
       "2      @VirginAmerica I didn't today... Must mean I n...  \n",
       "3      @VirginAmerica it's really aggressive to blast...  \n",
       "4      @VirginAmerica and it's a really big bad thing...  \n",
       "...                                                  ...  \n",
       "14635  @AmericanAir thank you we got on a different f...  \n",
       "14636  @AmericanAir leaving over 20 minutes Late Flig...  \n",
       "14637  @AmericanAir Please bring American Airlines to...  \n",
       "14638  @AmericanAir you have my money, you change my ...  \n",
       "14639  @AmericanAir we have 8 ppl so we need 2 know h...  \n",
       "\n",
       "[14640 rows x 4 columns]"
      ]
     },
     "execution_count": 2,
     "metadata": {},
     "output_type": "execute_result"
    }
   ],
   "source": [
    "# data.iloc[:,[0,1,3,5]] another method\n",
    "data = df[['sentiment_polarity','negative_reason','airline_name','Review']]\n",
    "data"
   ]
  },
  {
   "cell_type": "code",
   "execution_count": 3,
   "id": "31e7407b",
   "metadata": {},
   "outputs": [],
   "source": [
    "# Replaced all null values in Negative_reason columns\n",
    "df1 = data.fillna(\"nill\")"
   ]
  },
  {
   "cell_type": "code",
   "execution_count": 7,
   "id": "6de8e80c",
   "metadata": {},
   "outputs": [
    {
     "data": {
      "text/plain": [
       "sentiment_polarity    0\n",
       "negative_reason       0\n",
       "airline_name          0\n",
       "Review                0\n",
       "dtype: int64"
      ]
     },
     "execution_count": 7,
     "metadata": {},
     "output_type": "execute_result"
    }
   ],
   "source": [
    "# Removed all Null Values\n",
    "df1.isna().sum()"
   ]
  },
  {
   "cell_type": "code",
   "execution_count": 4,
   "id": "4553c701",
   "metadata": {},
   "outputs": [
    {
     "data": {
      "text/html": [
       "<div>\n",
       "<style scoped>\n",
       "    .dataframe tbody tr th:only-of-type {\n",
       "        vertical-align: middle;\n",
       "    }\n",
       "\n",
       "    .dataframe tbody tr th {\n",
       "        vertical-align: top;\n",
       "    }\n",
       "\n",
       "    .dataframe thead th {\n",
       "        text-align: right;\n",
       "    }\n",
       "</style>\n",
       "<table border=\"1\" class=\"dataframe\">\n",
       "  <thead>\n",
       "    <tr style=\"text-align: right;\">\n",
       "      <th></th>\n",
       "      <th>sentiment_polarity</th>\n",
       "      <th>negative_reason</th>\n",
       "      <th>airline_name</th>\n",
       "      <th>Review</th>\n",
       "    </tr>\n",
       "  </thead>\n",
       "  <tbody>\n",
       "    <tr>\n",
       "      <th>0</th>\n",
       "      <td>neutral</td>\n",
       "      <td>nill</td>\n",
       "      <td>Virgin America</td>\n",
       "      <td>@VirginAmerica What @dhepburn said.</td>\n",
       "    </tr>\n",
       "    <tr>\n",
       "      <th>1</th>\n",
       "      <td>positive</td>\n",
       "      <td>nill</td>\n",
       "      <td>Virgin America</td>\n",
       "      <td>@VirginAmerica plus you've added commercials t...</td>\n",
       "    </tr>\n",
       "    <tr>\n",
       "      <th>2</th>\n",
       "      <td>neutral</td>\n",
       "      <td>nill</td>\n",
       "      <td>Virgin America</td>\n",
       "      <td>@VirginAmerica I didn't today... Must mean I n...</td>\n",
       "    </tr>\n",
       "    <tr>\n",
       "      <th>3</th>\n",
       "      <td>negative</td>\n",
       "      <td>Bad Flight</td>\n",
       "      <td>Virgin America</td>\n",
       "      <td>@VirginAmerica it's really aggressive to blast...</td>\n",
       "    </tr>\n",
       "    <tr>\n",
       "      <th>4</th>\n",
       "      <td>negative</td>\n",
       "      <td>Can't Tell</td>\n",
       "      <td>Virgin America</td>\n",
       "      <td>@VirginAmerica and it's a really big bad thing...</td>\n",
       "    </tr>\n",
       "  </tbody>\n",
       "</table>\n",
       "</div>"
      ],
      "text/plain": [
       "  sentiment_polarity negative_reason    airline_name  \\\n",
       "0            neutral            nill  Virgin America   \n",
       "1           positive            nill  Virgin America   \n",
       "2            neutral            nill  Virgin America   \n",
       "3           negative      Bad Flight  Virgin America   \n",
       "4           negative      Can't Tell  Virgin America   \n",
       "\n",
       "                                              Review  \n",
       "0                @VirginAmerica What @dhepburn said.  \n",
       "1  @VirginAmerica plus you've added commercials t...  \n",
       "2  @VirginAmerica I didn't today... Must mean I n...  \n",
       "3  @VirginAmerica it's really aggressive to blast...  \n",
       "4  @VirginAmerica and it's a really big bad thing...  "
      ]
     },
     "execution_count": 4,
     "metadata": {},
     "output_type": "execute_result"
    }
   ],
   "source": [
    "# Cleaned dataset after removed NaN values\n",
    "df1.head()"
   ]
  },
  {
   "cell_type": "code",
   "execution_count": 9,
   "id": "58ff7974",
   "metadata": {},
   "outputs": [
    {
     "data": {
      "text/plain": [
       "<AxesSubplot:xlabel='sentiment_polarity'>"
      ]
     },
     "execution_count": 9,
     "metadata": {},
     "output_type": "execute_result"
    },
    {
     "data": {
      "image/png": "[encoded data removed]",
      "text/plain": [
       "<Figure size 432x288 with 1 Axes>"
      ]
     },
     "metadata": {
      "needs_background": "light"
     },
     "output_type": "display_data"
    }
   ],
   "source": [
    "import matplotlib.pyplot as plt\n",
    "df1.groupby(['sentiment_polarity']).count().negative_reason.plot(kind='bar')"
   ]
  },
  {
   "cell_type": "code",
   "execution_count": 5,
   "id": "f5a6216f",
   "metadata": {
    "scrolled": true
   },
   "outputs": [
    {
     "data": {
      "text/html": [
       "<div>\n",
       "<style scoped>\n",
       "    .dataframe tbody tr th:only-of-type {\n",
       "        vertical-align: middle;\n",
       "    }\n",
       "\n",
       "    .dataframe tbody tr th {\n",
       "        vertical-align: top;\n",
       "    }\n",
       "\n",
       "    .dataframe thead th {\n",
       "        text-align: right;\n",
       "    }\n",
       "</style>\n",
       "<table border=\"1\" class=\"dataframe\">\n",
       "  <thead>\n",
       "    <tr style=\"text-align: right;\">\n",
       "      <th></th>\n",
       "      <th>Review_reason</th>\n",
       "    </tr>\n",
       "  </thead>\n",
       "  <tbody>\n",
       "    <tr>\n",
       "      <th>0</th>\n",
       "      <td>nill @VirginAmerica What @dhepburn said.</td>\n",
       "    </tr>\n",
       "    <tr>\n",
       "      <th>1</th>\n",
       "      <td>nill @VirginAmerica plus you've added commerci...</td>\n",
       "    </tr>\n",
       "    <tr>\n",
       "      <th>2</th>\n",
       "      <td>nill @VirginAmerica I didn't today... Must mea...</td>\n",
       "    </tr>\n",
       "    <tr>\n",
       "      <th>3</th>\n",
       "      <td>Bad Flight @VirginAmerica it's really aggressi...</td>\n",
       "    </tr>\n",
       "    <tr>\n",
       "      <th>4</th>\n",
       "      <td>Can't Tell @VirginAmerica and it's a really bi...</td>\n",
       "    </tr>\n",
       "  </tbody>\n",
       "</table>\n",
       "</div>"
      ],
      "text/plain": [
       "                                       Review_reason\n",
       "0           nill @VirginAmerica What @dhepburn said.\n",
       "1  nill @VirginAmerica plus you've added commerci...\n",
       "2  nill @VirginAmerica I didn't today... Must mea...\n",
       "3  Bad Flight @VirginAmerica it's really aggressi...\n",
       "4  Can't Tell @VirginAmerica and it's a really bi..."
      ]
     },
     "execution_count": 5,
     "metadata": {},
     "output_type": "execute_result"
    }
   ],
   "source": [
    "x1 = df1.drop('sentiment_polarity', axis = 1)\n",
    "x1['Review_reason'] = df1['negative_reason'] + ' ' + df1['Review']\n",
    "x1 = x1.drop(['negative_reason','airline_name', 'Review'], axis = 1)\n",
    "x1.head(5)"
   ]
  },
  {
   "cell_type": "code",
   "execution_count": 6,
   "id": "57776246",
   "metadata": {},
   "outputs": [
    {
     "data": {
      "text/plain": [
       "0    0\n",
       "1    1\n",
       "2    0\n",
       "3   -1\n",
       "4   -1\n",
       "Name: sentiment_polarity, dtype: int64"
      ]
     },
     "execution_count": 6,
     "metadata": {},
     "output_type": "execute_result"
    }
   ],
   "source": [
    "y = df1['sentiment_polarity'].replace(['positive','negative','neutral'],[1,-1,0])\n",
    "y.head(5)                                "
   ]
  },
  {
   "cell_type": "code",
   "execution_count": 7,
   "id": "5b69e69e",
   "metadata": {},
   "outputs": [
    {
     "name": "stderr",
     "output_type": "stream",
     "text": [
      "[nltk_data] Downloading package wordnet to\n",
      "[nltk_data]     C:\\Users\\kurra\\AppData\\Roaming\\nltk_data...\n",
      "[nltk_data]   Package wordnet is already up-to-date!\n"
     ]
    },
    {
     "data": {
      "text/plain": [
       "True"
      ]
     },
     "execution_count": 7,
     "metadata": {},
     "output_type": "execute_result"
    }
   ],
   "source": [
    "# Preprocessing Task for Text Dataset\n",
    "# Importing Dependencies\n",
    "import re\n",
    "import nltk\n",
    "from nltk.corpus import stopwords\n",
    "from nltk.tokenize import word_tokenize\n",
    "from nltk.stem import PorterStemmer, WordNetLemmatizer\n",
    "from sklearn.feature_extraction.text import TfidfVectorizer\n",
    "nltk.download('wordnet')"
   ]
  },
  {
   "cell_type": "code",
   "execution_count": 8,
   "id": "72010b74",
   "metadata": {},
   "outputs": [
    {
     "name": "stderr",
     "output_type": "stream",
     "text": [
      "[nltk_data] Downloading package stopwords to\n",
      "[nltk_data]     C:\\Users\\kurra\\AppData\\Roaming\\nltk_data...\n",
      "[nltk_data]   Package stopwords is already up-to-date!\n"
     ]
    },
    {
     "data": {
      "text/plain": [
       "True"
      ]
     },
     "execution_count": 8,
     "metadata": {},
     "output_type": "execute_result"
    }
   ],
   "source": [
    "nltk.download('stopwords')"
   ]
  },
  {
   "cell_type": "code",
   "execution_count": 9,
   "id": "b22cecbf",
   "metadata": {},
   "outputs": [],
   "source": [
    "ps = PorterStemmer()\n",
    "lem = WordNetLemmatizer()"
   ]
  },
  {
   "cell_type": "code",
   "execution_count": 10,
   "id": "19b35879",
   "metadata": {},
   "outputs": [],
   "source": [
    "# function to stem the content\n",
    "def stemming(content):\n",
    "    content = re.sub('[^a-zA-Z]',' ', content)\n",
    "    content = content.lower()\n",
    "    content = word_tokenize(content)\n",
    "    #content = content.split()\n",
    "    content = [ps.stem(word) for word in content if not word in stopwords.words('english')]\n",
    "    content = [lem.lemmatize(word) for word in content]\n",
    "    return \" \".join(content)"
   ]
  },
  {
   "cell_type": "code",
   "execution_count": 11,
   "id": "3af04b4e",
   "metadata": {},
   "outputs": [],
   "source": [
    "x1['Review_reason'] = x1['Review_reason'].apply(stemming)"
   ]
  },
  {
   "cell_type": "code",
   "execution_count": 12,
   "id": "dd1f336a",
   "metadata": {},
   "outputs": [
    {
     "data": {
      "text/html": [
       "<div>\n",
       "<style scoped>\n",
       "    .dataframe tbody tr th:only-of-type {\n",
       "        vertical-align: middle;\n",
       "    }\n",
       "\n",
       "    .dataframe tbody tr th {\n",
       "        vertical-align: top;\n",
       "    }\n",
       "\n",
       "    .dataframe thead th {\n",
       "        text-align: right;\n",
       "    }\n",
       "</style>\n",
       "<table border=\"1\" class=\"dataframe\">\n",
       "  <thead>\n",
       "    <tr style=\"text-align: right;\">\n",
       "      <th></th>\n",
       "      <th>Review_reason</th>\n",
       "    </tr>\n",
       "  </thead>\n",
       "  <tbody>\n",
       "    <tr>\n",
       "      <th>0</th>\n",
       "      <td>nill virginamerica dhepburn said</td>\n",
       "    </tr>\n",
       "    <tr>\n",
       "      <th>1</th>\n",
       "      <td>nill virginamerica plu ad commerci experi tacki</td>\n",
       "    </tr>\n",
       "    <tr>\n",
       "      <th>2</th>\n",
       "      <td>nill virginamerica today must mean need take a...</td>\n",
       "    </tr>\n",
       "    <tr>\n",
       "      <th>3</th>\n",
       "      <td>bad flight virginamerica realli aggress blast ...</td>\n",
       "    </tr>\n",
       "    <tr>\n",
       "      <th>4</th>\n",
       "      <td>tell virginamerica realli big bad thing</td>\n",
       "    </tr>\n",
       "    <tr>\n",
       "      <th>...</th>\n",
       "      <td>...</td>\n",
       "    </tr>\n",
       "    <tr>\n",
       "      <th>14635</th>\n",
       "      <td>nill americanair thank got differ flight chicago</td>\n",
       "    </tr>\n",
       "    <tr>\n",
       "      <th>14636</th>\n",
       "      <td>custom servic issu americanair leav minut late...</td>\n",
       "    </tr>\n",
       "    <tr>\n",
       "      <th>14637</th>\n",
       "      <td>nill americanair plea bring american airlin bl...</td>\n",
       "    </tr>\n",
       "    <tr>\n",
       "      <th>14638</th>\n",
       "      <td>custom servic issu americanair money chang fli...</td>\n",
       "    </tr>\n",
       "    <tr>\n",
       "      <th>14639</th>\n",
       "      <td>nill americanair ppl need know mani seat next ...</td>\n",
       "    </tr>\n",
       "  </tbody>\n",
       "</table>\n",
       "<p>14640 rows × 1 columns</p>\n",
       "</div>"
      ],
      "text/plain": [
       "                                           Review_reason\n",
       "0                       nill virginamerica dhepburn said\n",
       "1        nill virginamerica plu ad commerci experi tacki\n",
       "2      nill virginamerica today must mean need take a...\n",
       "3      bad flight virginamerica realli aggress blast ...\n",
       "4                tell virginamerica realli big bad thing\n",
       "...                                                  ...\n",
       "14635   nill americanair thank got differ flight chicago\n",
       "14636  custom servic issu americanair leav minut late...\n",
       "14637  nill americanair plea bring american airlin bl...\n",
       "14638  custom servic issu americanair money chang fli...\n",
       "14639  nill americanair ppl need know mani seat next ...\n",
       "\n",
       "[14640 rows x 1 columns]"
      ]
     },
     "execution_count": 12,
     "metadata": {},
     "output_type": "execute_result"
    }
   ],
   "source": [
    "x1"
   ]
  },
  {
   "cell_type": "code",
   "execution_count": 13,
   "id": "19b0473b",
   "metadata": {},
   "outputs": [
    {
     "data": {
      "text/plain": [
       "array(['nill virginamerica dhepburn said',\n",
       "       'nill virginamerica plu ad commerci experi tacki',\n",
       "       'nill virginamerica today must mean need take anoth trip', ...,\n",
       "       'nill americanair plea bring american airlin blackberri',\n",
       "       'custom servic issu americanair money chang flight answer phone suggest make commit',\n",
       "       'nill americanair ppl need know mani seat next flight plz put u standbi peopl next flight'],\n",
       "      dtype=object)"
      ]
     },
     "execution_count": 13,
     "metadata": {},
     "output_type": "execute_result"
    }
   ],
   "source": [
    "x2 = x1['Review_reason'].values\n",
    "x2 "
   ]
  },
  {
   "cell_type": "code",
   "execution_count": 14,
   "id": "4c412bdc",
   "metadata": {},
   "outputs": [],
   "source": [
    "vectorizer = TfidfVectorizer()\n",
    "vectorizer.fit(x2)\n",
    "X = vectorizer.transform(x2)"
   ]
  },
  {
   "cell_type": "code",
   "execution_count": 15,
   "id": "a7ca234f",
   "metadata": {},
   "outputs": [
    {
     "name": "stdout",
     "output_type": "stream",
     "text": [
      "  (0, 9997)\t0.3545116818202281\n",
      "  (0, 7984)\t0.4419976486799406\n",
      "  (0, 6278)\t0.16207964352885437\n",
      "  (0, 2298)\t0.8078921556544268\n",
      "  (1, 9997)\t0.2530394250318121\n",
      "  (1, 8978)\t0.5766483222918803\n",
      "  (1, 7088)\t0.3785063958390433\n",
      "  (1, 6278)\t0.11568741429711116\n",
      "  (1, 2981)\t0.3052480301551673\n",
      "  (1, 1733)\t0.44864566271375295\n",
      "  (1, 90)\t0.39030475487014427\n",
      "  (2, 9997)\t0.29368056146655575\n",
      "  (2, 9441)\t0.3493325116352576\n",
      "  (2, 9317)\t0.30724855133408496\n",
      "  (2, 8988)\t0.3162998758645117\n",
      "  (2, 6278)\t0.13426818678993718\n",
      "  (2, 6172)\t0.27655773267168593\n",
      "  (2, 6072)\t0.4719850452357394\n",
      "  (2, 5716)\t0.40681990230415266\n",
      "  (2, 381)\t0.3383589795486256\n",
      "  (3, 9997)\t0.17384543645754164\n",
      "  (3, 7584)\t0.3522033775926179\n",
      "  (3, 7549)\t0.195896592000614\n",
      "  (3, 6515)\t0.3799458465481973\n",
      "  (3, 5343)\t0.25503537062858045\n",
      "  :\t:\n",
      "  (14638, 8834)\t0.4193598888048665\n",
      "  (14638, 8193)\t0.15197623855572942\n",
      "  (14638, 6986)\t0.2745262854627261\n",
      "  (14638, 5958)\t0.3700673234539471\n",
      "  (14638, 5576)\t0.2715930862735639\n",
      "  (14638, 4640)\t0.15579741551216836\n",
      "  (14638, 3238)\t0.11521878830517523\n",
      "  (14638, 2023)\t0.15316723448039996\n",
      "  (14638, 1735)\t0.49601079701159434\n",
      "  (14638, 1451)\t0.27507503787389503\n",
      "  (14638, 385)\t0.3270093064480904\n",
      "  (14638, 302)\t0.15914370069805275\n",
      "  (14639, 8675)\t0.3193956119221646\n",
      "  (14639, 8134)\t0.2159770438781713\n",
      "  (14639, 7353)\t0.2687009298284023\n",
      "  (14639, 7165)\t0.34624316218042617\n",
      "  (14639, 7092)\t0.35292607976544327\n",
      "  (14639, 6920)\t0.23943671737481978\n",
      "  (14639, 6278)\t0.09606290621823188\n",
      "  (14639, 6240)\t0.49733968323650984\n",
      "  (14639, 6172)\t0.1978647375281163\n",
      "  (14639, 5605)\t0.28722788883316114\n",
      "  (14639, 5070)\t0.22387606575899818\n",
      "  (14639, 3238)\t0.18218770016435296\n",
      "  (14639, 302)\t0.1258216010266793\n"
     ]
    }
   ],
   "source": [
    "print(X)"
   ]
  },
  {
   "cell_type": "code",
   "execution_count": 21,
   "id": "c275094c",
   "metadata": {},
   "outputs": [
    {
     "name": "stdout",
     "output_type": "stream",
     "text": [
      "(14640, 10769)\n",
      "(14640,)\n"
     ]
    }
   ],
   "source": [
    "print(X.shape)\n",
    "print(y.shape)"
   ]
  },
  {
   "cell_type": "code",
   "execution_count": 62,
   "id": "4860269e",
   "metadata": {},
   "outputs": [
    {
     "data": {
      "text/plain": [
       "(14640,)"
      ]
     },
     "execution_count": 62,
     "metadata": {},
     "output_type": "execute_result"
    }
   ],
   "source": [
    "y.shape"
   ]
  },
  {
   "cell_type": "code",
   "execution_count": 59,
   "id": "d8f8ca86",
   "metadata": {},
   "outputs": [],
   "source": [
    "# Looking for data imbalance\n",
    "from collections import Counter"
   ]
  },
  {
   "cell_type": "code",
   "execution_count": 61,
   "id": "0fd0d271",
   "metadata": {},
   "outputs": [
    {
     "data": {
      "text/plain": [
       "[(-1, 9178), (0, 3099), (1, 2363)]"
      ]
     },
     "execution_count": 61,
     "metadata": {},
     "output_type": "execute_result"
    }
   ],
   "source": [
    "sorted(Counter(y).items())"
   ]
  },
  {
   "cell_type": "code",
   "execution_count": 16,
   "id": "ec2c96f0",
   "metadata": {},
   "outputs": [],
   "source": [
    "# Spliting dataset for train and test\n",
    "from sklearn.model_selection import train_test_split\n",
    "\n",
    "x_train, x_test, y_train, y_test = train_test_split(X,y, test_size = 0.3, random_state = 42)"
   ]
  },
  {
   "cell_type": "code",
   "execution_count": 23,
   "id": "a6de2654",
   "metadata": {},
   "outputs": [
    {
     "data": {
      "text/plain": [
       "LogisticRegression()"
      ]
     },
     "execution_count": 23,
     "metadata": {},
     "output_type": "execute_result"
    }
   ],
   "source": [
    "# Using Logistic Regression model\n",
    "\n",
    "from sklearn.linear_model import LogisticRegression\n",
    "from sklearn.metrics import accuracy_score\n",
    "\n",
    "log = LogisticRegression()\n",
    "log.fit(x_train,y_train)"
   ]
  },
  {
   "cell_type": "code",
   "execution_count": 24,
   "id": "32bf4af5",
   "metadata": {},
   "outputs": [],
   "source": [
    "y_pred = log.predict(x_test)"
   ]
  },
  {
   "cell_type": "code",
   "execution_count": 25,
   "id": "cf7c93f0",
   "metadata": {},
   "outputs": [
    {
     "data": {
      "text/plain": [
       "0.941712204007286"
      ]
     },
     "execution_count": 25,
     "metadata": {},
     "output_type": "execute_result"
    }
   ],
   "source": [
    "#Accuracy score\n",
    "log_score = accuracy_score(y_test,y_pred)\n",
    "log_score"
   ]
  },
  {
   "cell_type": "code",
   "execution_count": 26,
   "id": "bc224dbc",
   "metadata": {},
   "outputs": [
    {
     "data": {
      "text/plain": [
       "SVC()"
      ]
     },
     "execution_count": 26,
     "metadata": {},
     "output_type": "execute_result"
    }
   ],
   "source": [
    "# Using Support Vector Classcification\n",
    "from sklearn.svm import SVC\n",
    "\n",
    "model_svc = SVC()\n",
    "model_svc.fit(x_train,y_train)"
   ]
  },
  {
   "cell_type": "code",
   "execution_count": 27,
   "id": "2b2f2a8c",
   "metadata": {},
   "outputs": [],
   "source": [
    "y_svc_pred = model_svc.predict(x_test)"
   ]
  },
  {
   "cell_type": "code",
   "execution_count": 28,
   "id": "97816fdf",
   "metadata": {},
   "outputs": [
    {
     "data": {
      "text/plain": [
       "0.938752276867031"
      ]
     },
     "execution_count": 28,
     "metadata": {},
     "output_type": "execute_result"
    }
   ],
   "source": [
    "svc_accuracy_score = accuracy_score(y_test,y_svc_pred)\n",
    "svc_accuracy_score"
   ]
  },
  {
   "cell_type": "code",
   "execution_count": 29,
   "id": "f44ef7e8",
   "metadata": {},
   "outputs": [],
   "source": [
    "positive = x1['Review_reason'][1]"
   ]
  },
  {
   "cell_type": "code",
   "execution_count": 30,
   "id": "1a04b86e",
   "metadata": {
    "scrolled": true
   },
   "outputs": [
    {
     "data": {
      "text/plain": [
       "array([0], dtype=int64)"
      ]
     },
     "execution_count": 30,
     "metadata": {},
     "output_type": "execute_result"
    }
   ],
   "source": [
    "model_svc.predict(X[6555])"
   ]
  },
  {
   "cell_type": "markdown",
   "id": "c8dc494a",
   "metadata": {},
   "source": [
    "# Using XGBoost "
   ]
  },
  {
   "cell_type": "code",
   "execution_count": 18,
   "id": "8e5ffcd0",
   "metadata": {},
   "outputs": [],
   "source": [
    "import xgboost\n",
    "from sklearn.model_selection import GridSearchCV\n",
    "model_xbg = xgboost.XGBClassifier()"
   ]
  },
  {
   "cell_type": "code",
   "execution_count": null,
   "id": "6b3c3f90",
   "metadata": {},
   "outputs": [],
   "source": [
    "from sklearn.preprocessing import LabelEncoder\n",
    "le = LabelEncoder()\n",
    "Y_train = le.fit_transform(y_train)\n",
    "Y_test = le.fit_transform(y_test)"
   ]
  },
  {
   "cell_type": "code",
   "execution_count": 21,
   "id": "f2947af0",
   "metadata": {},
   "outputs": [
    {
     "name": "stderr",
     "output_type": "stream",
     "text": [
      "C:\\Users\\kurra\\anaconda3\\lib\\site-packages\\xgboost\\sklearn.py:793: UserWarning: `early_stopping_rounds` in `fit` method is deprecated for better compatibility with scikit-learn, use `early_stopping_rounds` in constructor or`set_params` instead.\n",
      "  warnings.warn(\n"
     ]
    },
    {
     "name": "stdout",
     "output_type": "stream",
     "text": [
      "[0]\tvalidation_0-mlogloss:0.77636\n",
      "[1]\tvalidation_0-mlogloss:0.59134\n",
      "[2]\tvalidation_0-mlogloss:0.47412\n",
      "[3]\tvalidation_0-mlogloss:0.39361\n",
      "[4]\tvalidation_0-mlogloss:0.33802\n",
      "[5]\tvalidation_0-mlogloss:0.29760\n",
      "[6]\tvalidation_0-mlogloss:0.26735\n",
      "[7]\tvalidation_0-mlogloss:0.24478\n",
      "[8]\tvalidation_0-mlogloss:0.22797\n",
      "[9]\tvalidation_0-mlogloss:0.21483\n",
      "[10]\tvalidation_0-mlogloss:0.20441\n",
      "[11]\tvalidation_0-mlogloss:0.19691\n",
      "[12]\tvalidation_0-mlogloss:0.19076\n",
      "[13]\tvalidation_0-mlogloss:0.18580\n",
      "[14]\tvalidation_0-mlogloss:0.18173\n",
      "[15]\tvalidation_0-mlogloss:0.17796\n",
      "[16]\tvalidation_0-mlogloss:0.17543\n",
      "[17]\tvalidation_0-mlogloss:0.17351\n",
      "[18]\tvalidation_0-mlogloss:0.17169\n",
      "[19]\tvalidation_0-mlogloss:0.16991\n",
      "[20]\tvalidation_0-mlogloss:0.16867\n",
      "[21]\tvalidation_0-mlogloss:0.16746\n",
      "[22]\tvalidation_0-mlogloss:0.16679\n",
      "[23]\tvalidation_0-mlogloss:0.16577\n",
      "[24]\tvalidation_0-mlogloss:0.16485\n",
      "[25]\tvalidation_0-mlogloss:0.16410\n",
      "[26]\tvalidation_0-mlogloss:0.16368\n",
      "[27]\tvalidation_0-mlogloss:0.16316\n",
      "[28]\tvalidation_0-mlogloss:0.16245\n",
      "[29]\tvalidation_0-mlogloss:0.16145\n",
      "[30]\tvalidation_0-mlogloss:0.16103\n",
      "[31]\tvalidation_0-mlogloss:0.16047\n",
      "[32]\tvalidation_0-mlogloss:0.15953\n",
      "[33]\tvalidation_0-mlogloss:0.15898\n",
      "[34]\tvalidation_0-mlogloss:0.15854\n",
      "[35]\tvalidation_0-mlogloss:0.15835\n",
      "[36]\tvalidation_0-mlogloss:0.15799\n",
      "[37]\tvalidation_0-mlogloss:0.15750\n",
      "[38]\tvalidation_0-mlogloss:0.15721\n",
      "[39]\tvalidation_0-mlogloss:0.15673\n",
      "[40]\tvalidation_0-mlogloss:0.15626\n",
      "[41]\tvalidation_0-mlogloss:0.15637\n",
      "[42]\tvalidation_0-mlogloss:0.15572\n",
      "[43]\tvalidation_0-mlogloss:0.15588\n",
      "[44]\tvalidation_0-mlogloss:0.15590\n",
      "[45]\tvalidation_0-mlogloss:0.15572\n",
      "[46]\tvalidation_0-mlogloss:0.15552\n",
      "[47]\tvalidation_0-mlogloss:0.15502\n",
      "[48]\tvalidation_0-mlogloss:0.15476\n",
      "[49]\tvalidation_0-mlogloss:0.15443\n",
      "[50]\tvalidation_0-mlogloss:0.15452\n",
      "[51]\tvalidation_0-mlogloss:0.15430\n",
      "[52]\tvalidation_0-mlogloss:0.15391\n",
      "[53]\tvalidation_0-mlogloss:0.15382\n",
      "[54]\tvalidation_0-mlogloss:0.15409\n",
      "[55]\tvalidation_0-mlogloss:0.15378\n",
      "[56]\tvalidation_0-mlogloss:0.15363\n",
      "[57]\tvalidation_0-mlogloss:0.15359\n",
      "[58]\tvalidation_0-mlogloss:0.15355\n",
      "[59]\tvalidation_0-mlogloss:0.15340\n",
      "[60]\tvalidation_0-mlogloss:0.15301\n",
      "[61]\tvalidation_0-mlogloss:0.15284\n",
      "[62]\tvalidation_0-mlogloss:0.15281\n",
      "[63]\tvalidation_0-mlogloss:0.15271\n",
      "[64]\tvalidation_0-mlogloss:0.15237\n",
      "[65]\tvalidation_0-mlogloss:0.15219\n",
      "[66]\tvalidation_0-mlogloss:0.15230\n",
      "[67]\tvalidation_0-mlogloss:0.15211\n",
      "[68]\tvalidation_0-mlogloss:0.15196\n",
      "[69]\tvalidation_0-mlogloss:0.15191\n",
      "[70]\tvalidation_0-mlogloss:0.15180\n",
      "[71]\tvalidation_0-mlogloss:0.15180\n",
      "[72]\tvalidation_0-mlogloss:0.15144\n",
      "[73]\tvalidation_0-mlogloss:0.15145\n",
      "[74]\tvalidation_0-mlogloss:0.15118\n",
      "[75]\tvalidation_0-mlogloss:0.15089\n",
      "[76]\tvalidation_0-mlogloss:0.15068\n",
      "[77]\tvalidation_0-mlogloss:0.15073\n",
      "[78]\tvalidation_0-mlogloss:0.15085\n",
      "[79]\tvalidation_0-mlogloss:0.15047\n",
      "[80]\tvalidation_0-mlogloss:0.15054\n",
      "[81]\tvalidation_0-mlogloss:0.15020\n",
      "[82]\tvalidation_0-mlogloss:0.15036\n",
      "[83]\tvalidation_0-mlogloss:0.15061\n",
      "[84]\tvalidation_0-mlogloss:0.15065\n",
      "[85]\tvalidation_0-mlogloss:0.15069\n",
      "[86]\tvalidation_0-mlogloss:0.15102\n",
      "[87]\tvalidation_0-mlogloss:0.15091\n",
      "[88]\tvalidation_0-mlogloss:0.15101\n",
      "[89]\tvalidation_0-mlogloss:0.15109\n",
      "[90]\tvalidation_0-mlogloss:0.15133\n",
      "[91]\tvalidation_0-mlogloss:0.15136\n"
     ]
    },
    {
     "data": {
      "text/plain": [
       "XGBClassifier(base_score=0.5, booster='gbtree', callbacks=None,\n",
       "              colsample_bylevel=1, colsample_bynode=1, colsample_bytree=1,\n",
       "              early_stopping_rounds=None, enable_categorical=False,\n",
       "              eval_metric=None, gamma=0, gpu_id=-1, grow_policy='depthwise',\n",
       "              importance_type=None, interaction_constraints='',\n",
       "              learning_rate=0.300000012, max_bin=256, max_cat_to_onehot=4,\n",
       "              max_delta_step=0, max_depth=6, max_leaves=0, min_child_weight=1,\n",
       "              missing=nan, monotone_constraints='()', n_estimators=100,\n",
       "              n_jobs=0, num_parallel_tree=1, objective='multi:softprob',\n",
       "              predictor='auto', random_state=0, reg_alpha=0, ...)"
      ]
     },
     "execution_count": 21,
     "metadata": {},
     "output_type": "execute_result"
    }
   ],
   "source": [
    "eval_set = [(x_test,Y_test)]\n",
    "model_xbg.fit(x_train,Y_train,early_stopping_rounds=10,eval_set=eval_set,verbose=True)"
   ]
  },
  {
   "cell_type": "code",
   "execution_count": 22,
   "id": "6c9d8e48",
   "metadata": {},
   "outputs": [],
   "source": [
    "y_pred = model_xbg.predict(x_test)"
   ]
  },
  {
   "cell_type": "code",
   "execution_count": 26,
   "id": "f218e727",
   "metadata": {},
   "outputs": [],
   "source": [
    "from sklearn.metrics import accuracy_score"
   ]
  },
  {
   "cell_type": "code",
   "execution_count": 25,
   "id": "7d3c5ef5",
   "metadata": {},
   "outputs": [
    {
     "data": {
      "text/plain": [
       "0.9319216757741348"
      ]
     },
     "execution_count": 25,
     "metadata": {},
     "output_type": "execute_result"
    }
   ],
   "source": [
    "xgb_score1 = accuracy_score(y_pred,Y_test)\n",
    "xgb_score1"
   ]
  },
  {
   "cell_type": "code",
   "execution_count": null,
   "id": "ac2e8f78",
   "metadata": {},
   "outputs": [],
   "source": [
    "# For more feature the below code used to find the most important feature\n",
    "from xgboost import plot_importance\n",
    "import matplotlib.pyplot as plt\n",
    "\n",
    "plot_importance(model_xbg)\n",
    "plt.show()"
   ]
  },
  {
   "cell_type": "code",
   "execution_count": null,
   "id": "e34dbe81",
   "metadata": {},
   "outputs": [],
   "source": [
    "# plot_tree in xgboost gives pictorial representation of tree made\n",
    "plt.figure(figsize=(10,15))\n",
    "xgboost.plot_tree(model_xbg, ax=plt.gca());"
   ]
  },
  {
   "cell_type": "markdown",
   "id": "46683a7a",
   "metadata": {},
   "source": [
    "# Using DecisionTreeClassifier"
   ]
  },
  {
   "cell_type": "code",
   "execution_count": 48,
   "id": "ee64817a",
   "metadata": {},
   "outputs": [],
   "source": [
    "from sklearn.tree import DecisionTreeClassifier\n",
    "model_dtc = DecisionTreeClassifier()"
   ]
  },
  {
   "cell_type": "code",
   "execution_count": 50,
   "id": "d18869b1",
   "metadata": {},
   "outputs": [],
   "source": [
    "grid_pram = {\"criterion\":['gini','entropy'],\n",
    "             \"splitter\":['best','random'],\n",
    "             \"max_depth\" : range(2,40,1),\n",
    "             \"min_samples_split\":range(2,10 ,1),\n",
    "             \"min_samples_leaf\":range(1,10,1)\n",
    "             }"
   ]
  },
  {
   "cell_type": "code",
   "execution_count": 51,
   "id": "df69312e",
   "metadata": {},
   "outputs": [],
   "source": [
    "grid_cv = GridSearchCV(estimator=model_dtc,param_grid=grid_pram,cv=5)"
   ]
  },
  {
   "cell_type": "code",
   "execution_count": 52,
   "id": "7e5a5819",
   "metadata": {},
   "outputs": [
    {
     "data": {
      "text/plain": [
       "GridSearchCV(cv=5, estimator=DecisionTreeClassifier(),\n",
       "             param_grid={'criterion': ['gini', 'entropy'],\n",
       "                         'max_depth': range(2, 40),\n",
       "                         'min_samples_leaf': range(1, 10),\n",
       "                         'min_samples_split': range(2, 10),\n",
       "                         'splitter': ['best', 'random']})"
      ]
     },
     "execution_count": 52,
     "metadata": {},
     "output_type": "execute_result"
    }
   ],
   "source": [
    "grid_cv.fit(x_train,y_train)"
   ]
  },
  {
   "cell_type": "code",
   "execution_count": 53,
   "id": "45b7553a",
   "metadata": {},
   "outputs": [
    {
     "data": {
      "text/plain": [
       "{'criterion': 'entropy',\n",
       " 'max_depth': 33,\n",
       " 'min_samples_leaf': 1,\n",
       " 'min_samples_split': 5,\n",
       " 'splitter': 'best'}"
      ]
     },
     "execution_count": 53,
     "metadata": {},
     "output_type": "execute_result"
    }
   ],
   "source": [
    "grid_cv.best_params_"
   ]
  },
  {
   "cell_type": "code",
   "execution_count": 54,
   "id": "0180e4f9",
   "metadata": {},
   "outputs": [],
   "source": [
    "model_dtc_best = DecisionTreeClassifier(criterion='entropy',\n",
    "    splitter='best',\n",
    "    max_depth=33,\n",
    "    min_samples_split=5,\n",
    "    min_samples_leaf=1,)"
   ]
  },
  {
   "cell_type": "code",
   "execution_count": 55,
   "id": "39ad4759",
   "metadata": {},
   "outputs": [
    {
     "data": {
      "text/plain": [
       "DecisionTreeClassifier(criterion='entropy', max_depth=33, min_samples_split=5)"
      ]
     },
     "execution_count": 55,
     "metadata": {},
     "output_type": "execute_result"
    }
   ],
   "source": [
    "model_dtc_best.fit(x_train,y_train)"
   ]
  },
  {
   "cell_type": "code",
   "execution_count": 56,
   "id": "a058f17d",
   "metadata": {},
   "outputs": [
    {
     "data": {
      "text/plain": [
       "0.9677010148321624"
      ]
     },
     "execution_count": 56,
     "metadata": {},
     "output_type": "execute_result"
    }
   ],
   "source": [
    "model_dtc_best.score(x_train,y_train)"
   ]
  },
  {
   "cell_type": "code",
   "execution_count": 57,
   "id": "137afa17",
   "metadata": {},
   "outputs": [
    {
     "data": {
      "text/plain": [
       "0.9253187613843351"
      ]
     },
     "execution_count": 57,
     "metadata": {},
     "output_type": "execute_result"
    }
   ],
   "source": [
    "model_dtc_best.score(x_test,y_test)"
   ]
  },
  {
   "cell_type": "code",
   "execution_count": null,
   "id": "5753b250",
   "metadata": {},
   "outputs": [],
   "source": []
  }
 ],
 "metadata": {
  "kernelspec": {
   "display_name": "Python 3 (ipykernel)",
   "language": "python",
   "name": "python3"
  },
  "language_info": {
   "codemirror_mode": {
    "name": "ipython",
    "version": 3
   },
   "file_extension": ".py",
   "mimetype": "text/x-python",
   "name": "python",
   "nbconvert_exporter": "python",
   "pygments_lexer": "ipython3",
   "version": "3.9.7"
  }
 },
 "nbformat": 4,
 "nbformat_minor": 5
}
